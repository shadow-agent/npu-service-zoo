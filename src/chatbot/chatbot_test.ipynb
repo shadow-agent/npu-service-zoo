{
 "cells": [
  {
   "cell_type": "code",
   "execution_count": 1,
   "metadata": {},
   "outputs": [],
   "source": [
    "from transformers import AutoTokenizer\n",
    "from vllm import LLM, SamplingParams\n",
    "import torch\n",
    "import os"
   ]
  },
  {
   "cell_type": "code",
   "execution_count": 4,
   "metadata": {},
   "outputs": [],
   "source": [
    "# 모델 및 데이터 경로 설정\n",
    "model_id = \"nvidia/ChatQA-1.5-8B\"  # 또는 커스텀 모델 경로\n",
    "data_folder = \"/home/dudaji/Jun/npu-service-zoo/data/chatbot/coqa\"\n",
    "output_folder = \"/home/dudaji/Jun/npu-service-zoo/results/chatbot/coqa\"\n",
    "eval_dataset = \"coqa\"  # 사용하려는 데이터셋 이름\n",
    "\n",
    "# 기타 매개변수\n",
    "num_ctx = 3  # context 개수\n",
    "out_seq_len = 128  # 출력 시퀀스 길이\n",
    "max_tokens = 200  # 최대 토큰 수"
   ]
  },
  {
   "cell_type": "code",
   "execution_count": 2,
   "metadata": {},
   "outputs": [
    {
     "ename": "ModuleNotFoundError",
     "evalue": "No module named 'dataset'",
     "output_type": "error",
     "traceback": [
      "\u001b[0;31m---------------------------------------------------------------------------\u001b[0m",
      "\u001b[0;31mModuleNotFoundError\u001b[0m                       Traceback (most recent call last)",
      "Cell \u001b[0;32mIn[2], line 1\u001b[0m\n\u001b[0;32m----> 1\u001b[0m \u001b[38;5;28;01mfrom\u001b[39;00m \u001b[38;5;21;01mdataset\u001b[39;00m \u001b[38;5;28;01mimport\u001b[39;00m load_data, get_inputs\n\u001b[1;32m      2\u001b[0m \u001b[38;5;28;01mdef\u001b[39;00m \u001b[38;5;21mget_prompt_list\u001b[39m():\n\u001b[1;32m      3\u001b[0m     tokenizer \u001b[38;5;241m=\u001b[39m AutoTokenizer\u001b[38;5;241m.\u001b[39mfrom_pretrained(model_id)\n",
      "\u001b[0;31mModuleNotFoundError\u001b[0m: No module named 'dataset'"
     ]
    }
   ],
   "source": [
    "from dataset import load_data, get_inputs\n",
    "def get_prompt_list():\n",
    "    tokenizer = AutoTokenizer.from_pretrained(model_id)\n",
    "    \n",
    "    # 데이터셋 경로 설정\n",
    "    dataset_paths = {\n",
    "        \"coqa\": \"dev.json\",\n",
    "    }\n",
    "\n",
    "    if eval_dataset in dataset_paths:\n",
    "        input_datapath = os.path.join(data_folder, dataset_paths[eval_dataset])\n",
    "    else:\n",
    "        raise Exception(\"Please input a correct eval_dataset name!\")\n",
    "    \n",
    "    # 데이터 로드 (사용자 정의 로드 함수)\n",
    "    data_list = load_data(input_datapath)  # 이 함수가 구현되어 있어야 합니다\n",
    "    print(f\"Number of samples in the dataset: {len(data_list)}\")\n",
    "    \n",
    "    # 프롬프트 생성 (사용자 정의 함수)\n",
    "    prompt_list = get_inputs(data_list, eval_dataset, tokenizer, num_ctx=num_ctx, max_output_len=out_seq_len)\n",
    "    return prompt_list"
   ]
  }
 ],
 "metadata": {
  "kernelspec": {
   "display_name": "langserve",
   "language": "python",
   "name": "python3"
  },
  "language_info": {
   "codemirror_mode": {
    "name": "ipython",
    "version": 3
   },
   "file_extension": ".py",
   "mimetype": "text/x-python",
   "name": "python",
   "nbconvert_exporter": "python",
   "pygments_lexer": "ipython3",
   "version": "3.11.9"
  }
 },
 "nbformat": 4,
 "nbformat_minor": 2
}
