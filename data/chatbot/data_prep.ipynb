{
 "cells": [
  {
   "cell_type": "markdown",
   "metadata": {},
   "source": [
    "# ChatRAG-Bench by NVIDIA"
   ]
  },
  {
   "cell_type": "code",
   "execution_count": 7,
   "metadata": {},
   "outputs": [
    {
     "name": "stdout",
     "output_type": "stream",
     "text": [
      "Data fetched successfully!\n",
      "Data saved to ChatRAG-Bench-dev.json\n"
     ]
    }
   ],
   "source": [
    "import subprocess\n",
    "\n",
    "# Huggingface에서 데이터셋 가져오기 \n",
    "curl_command = [\n",
    "    \"curl\",\n",
    "    \"-X\", \"GET\",\n",
    "    \"https://datasets-server.huggingface.co/rows?dataset=nvidia%2FChatRAG-Bench&config=coqa&split=dev&offset=0&length=100\"\n",
    "]\n",
    "result = subprocess.run(curl_command, stdout=subprocess.PIPE, stderr=subprocess.PIPE, text=True, check=True)\n",
    "print(\"Data fetched successfully!\")\n",
    "\n",
    "# 결과를 파일에 저장\n",
    "with open(\"ChatRAG-Bench-dev.json\", \"w\") as f:\n",
    "    f.write(result.stdout)"
   ]
  },
  {
   "cell_type": "code",
   "execution_count": 10,
   "metadata": {},
   "outputs": [],
   "source": [
    "import json\n",
    "\n",
    "with open(\"ChatRAG-Bench-dev.json\", \"r\", encoding=\"utf-8\") as file:\n",
    "    data = json.load(file)  # JSON 파일 로드\n"
   ]
  },
  {
   "cell_type": "code",
   "execution_count": 1,
   "metadata": {},
   "outputs": [
    {
     "data": {
      "application/vnd.jupyter.widget-view+json": {
       "model_id": "0d32aa06396f49b3b180855e2745a66e",
       "version_major": 2,
       "version_minor": 0
      },
      "text/plain": [
       "README.md:   0%|          | 0.00/9.44k [00:00<?, ?B/s]"
      ]
     },
     "metadata": {},
     "output_type": "display_data"
    },
    {
     "data": {
      "application/vnd.jupyter.widget-view+json": {
       "model_id": "87c2db62026d4a75b0749bd2dcf2338b",
       "version_major": 2,
       "version_minor": 0
      },
      "text/plain": [
       "dev.json:   0%|          | 0.00/25.7M [00:00<?, ?B/s]"
      ]
     },
     "metadata": {},
     "output_type": "display_data"
    },
    {
     "data": {
      "application/vnd.jupyter.widget-view+json": {
       "model_id": "353c4e9a171e4880979993f4691810c1",
       "version_major": 2,
       "version_minor": 0
      },
      "text/plain": [
       "Generating dev split:   0%|          | 0/7983 [00:00<?, ? examples/s]"
      ]
     },
     "metadata": {},
     "output_type": "display_data"
    }
   ],
   "source": [
    "from datasets import load_dataset\n",
    "\n",
    "ds = load_dataset(\"nvidia/ChatRAG-Bench\", \"coqa\")"
   ]
  },
  {
   "cell_type": "code",
   "execution_count": 3,
   "metadata": {},
   "outputs": [
    {
     "name": "stdout",
     "output_type": "stream",
     "text": [
      "Number of rows in dev split: 7983\n",
      "Columns: ['answers', 'ctxs', 'messages']\n",
      "[[{'content': 'What color was Cotton?', 'role': 'user'}], [{'content': 'What color was Cotton?', 'role': 'user'}, {'content': 'white', 'role': 'assistant'}, {'content': 'Where did she live?', 'role': 'user'}], [{'content': 'What color was Cotton?', 'role': 'user'}, {'content': 'white', 'role': 'assistant'}, {'content': 'Where did she live?', 'role': 'user'}, {'content': 'in a barn', 'role': 'assistant'}, {'content': 'Did she live alone?', 'role': 'user'}], [{'content': 'What color was Cotton?', 'role': 'user'}, {'content': 'white', 'role': 'assistant'}, {'content': 'Where did she live?', 'role': 'user'}, {'content': 'in a barn', 'role': 'assistant'}, {'content': 'Did she live alone?', 'role': 'user'}, {'content': 'no', 'role': 'assistant'}, {'content': 'Who did she live with?', 'role': 'user'}], [{'content': 'What color was Cotton?', 'role': 'user'}, {'content': 'white', 'role': 'assistant'}, {'content': 'Where did she live?', 'role': 'user'}, {'content': 'in a barn', 'role': 'assistant'}, {'content': 'Did she live alone?', 'role': 'user'}, {'content': 'no', 'role': 'assistant'}, {'content': 'Who did she live with?', 'role': 'user'}, {'content': 'with her mommy and 5 sisters', 'role': 'assistant'}, {'content': 'What color were her sisters?', 'role': 'user'}]]\n"
     ]
    }
   ],
   "source": [
    "# 데이터셋 행 수 확인\n",
    "print(f\"Number of rows in dev split: {len(ds['dev'])}\")\n",
    "\n",
    "# 열 이름 확인\n",
    "print(f\"Columns: {ds['dev'].column_names}\")\n",
    "\n",
    "# 특정 열의 모든 데이터 확인 (예: 'messages')\n",
    "print(ds[\"dev\"][\"messages\"][:5])"
   ]
  },
  {
   "cell_type": "code",
   "execution_count": 13,
   "metadata": {},
   "outputs": [
    {
     "data": {
      "text/plain": [
       "3"
      ]
     },
     "execution_count": 13,
     "metadata": {},
     "output_type": "execute_result"
    }
   ],
   "source": [
    "len(data['features'])"
   ]
  },
  {
   "cell_type": "code",
   "execution_count": 8,
   "metadata": {},
   "outputs": [
    {
     "name": "stdout",
     "output_type": "stream",
     "text": [
      "File Size: 0.24 MB\n"
     ]
    }
   ],
   "source": [
    "import os\n",
    "\n",
    "# 파일 경로\n",
    "file_path = \"/home/dudaji/Jun/npu-service-zoo/data/chatbot/ChatRAG-Bench-dev.json\"\n",
    "\n",
    "# 파일 용량 확인\n",
    "if os.path.exists(file_path):\n",
    "    file_size = os.path.getsize(file_path)  # 바이트 단위 크기 가져오기\n",
    "    file_size_mb = file_size / (1024 * 1024)  # MB로 변환\n",
    "    print(f\"File Size: {file_size_mb:.2f} MB\")\n",
    "else:\n",
    "    print(\"File does not exist.\")"
   ]
  }
 ],
 "metadata": {
  "kernelspec": {
   "display_name": "langserve",
   "language": "python",
   "name": "python3"
  },
  "language_info": {
   "codemirror_mode": {
    "name": "ipython",
    "version": 3
   },
   "file_extension": ".py",
   "mimetype": "text/x-python",
   "name": "python",
   "nbconvert_exporter": "python",
   "pygments_lexer": "ipython3",
   "version": "3.11.9"
  }
 },
 "nbformat": 4,
 "nbformat_minor": 2
}
